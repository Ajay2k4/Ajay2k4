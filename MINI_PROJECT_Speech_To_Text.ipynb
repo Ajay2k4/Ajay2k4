{
  "nbformat": 4,
  "nbformat_minor": 0,
  "metadata": {
    "colab": {
      "provenance": [],
      "include_colab_link": true
    },
    "kernelspec": {
      "name": "python3",
      "display_name": "Python 3"
    }
  },
  "cells": [
    {
      "cell_type": "markdown",
      "metadata": {
        "id": "view-in-github",
        "colab_type": "text"
      },
      "source": [
        "<a href=\"https://colab.research.google.com/github/Ajay2k4/Ajay2k4/blob/main/MINI_PROJECT_Speech_To_Text.ipynb\" target=\"_parent\"><img src=\"https://colab.research.google.com/assets/colab-badge.svg\" alt=\"Open In Colab\"/></a>"
      ]
    },
    {
      "cell_type": "markdown",
      "source": [
        "<h1> SPEECH TO TEXT"
      ],
      "metadata": {
        "id": "qJLCDakGUFIi"
      }
    },
    {
      "cell_type": "code",
      "metadata": {
        "id": "JPHnyUBviH0c"
      },
      "source": [
        "! pip install -q transformers"
      ],
      "execution_count": null,
      "outputs": []
    },
    {
      "cell_type": "code",
      "metadata": {
        "id": "b1dL-TWaiL2_"
      },
      "source": [
        "import librosa\n",
        "import torch\n",
        "from transformers import Wav2Vec2ForCTC, Wav2Vec2Tokenizer"
      ],
      "execution_count": null,
      "outputs": []
    },
    {
      "cell_type": "code",
      "metadata": {
        "id": "_7_kYLbkiTBF"
      },
      "source": [
        "#load pre-trained model and tokenizer\n",
        "tokenizer = Wav2Vec2Tokenizer.from_pretrained(\"facebook/wav2vec2-base-960h\")\n",
        "model = Wav2Vec2ForCTC.from_pretrained(\"facebook/wav2vec2-base-960h\")"
      ],
      "execution_count": null,
      "outputs": []
    },
    {
      "cell_type": "code",
      "metadata": {
        "id": "aZHVYnywjEu0"
      },
      "source": [
        "#load any audio file of your choice\n",
        "speech, rate = librosa.load(\"/content/Test.mp3\",sr=16000)"
      ],
      "execution_count": null,
      "outputs": []
    },
    {
      "cell_type": "code",
      "metadata": {
        "id": "b_AgY6HrjGs2"
      },
      "source": [
        "import IPython.display as display\n",
        "display.Audio(\"/content/Test.mp3\", autoplay=True)"
      ],
      "execution_count": null,
      "outputs": []
    },
    {
      "cell_type": "code",
      "metadata": {
        "id": "EKKsO6TsjToR"
      },
      "source": [
        "input_values = tokenizer(speech, return_tensors = 'pt').input_values"
      ],
      "execution_count": null,
      "outputs": []
    },
    {
      "cell_type": "code",
      "metadata": {
        "id": "Nx-_Kv8mrreF"
      },
      "source": [
        "input_values"
      ],
      "execution_count": null,
      "outputs": []
    },
    {
      "cell_type": "code",
      "metadata": {
        "id": "hOnEeB8ikD2p"
      },
      "source": [
        "#Store logits (non-normalized predictions)\n",
        "logits = model(input_values).logits"
      ],
      "execution_count": null,
      "outputs": []
    },
    {
      "cell_type": "code",
      "metadata": {
        "id": "liLxM8KW2tFe"
      },
      "source": [
        "logits"
      ],
      "execution_count": null,
      "outputs": []
    },
    {
      "cell_type": "code",
      "metadata": {
        "id": "741DtETtiW4N"
      },
      "source": [
        "#Store predicted id's\n",
        "predicted_ids = torch.argmax(logits, dim =-1)\n",
        "predicted_ids"
      ],
      "execution_count": null,
      "outputs": []
    },
    {
      "cell_type": "code",
      "metadata": {
        "id": "5XEmE0-xjVqU"
      },
      "source": [
        "#decode the audio to generate text\n",
        "transcriptions = tokenizer.decode(predicted_ids[0])\n"
      ],
      "execution_count": null,
      "outputs": []
    },
    {
      "cell_type": "code",
      "metadata": {
        "id": "scP9E_yPrGpq"
      },
      "source": [
        "print(transcriptions)"
      ],
      "execution_count": null,
      "outputs": []
    },
    {
      "cell_type": "markdown",
      "source": [
        "<H1> TEXT TO SPEECH"
      ],
      "metadata": {
        "id": "08gfAN_QUNi-"
      }
    },
    {
      "cell_type": "code",
      "source": [
        "!pip install gtts"
      ],
      "metadata": {
        "id": "WnjnrYgLUZJt"
      },
      "execution_count": null,
      "outputs": []
    },
    {
      "cell_type": "code",
      "metadata": {
        "id": "DCH-Rvc921vO"
      },
      "source": [
        "from gtts import gTTS"
      ],
      "execution_count": null,
      "outputs": []
    },
    {
      "cell_type": "code",
      "source": [
        "language = \"en\""
      ],
      "metadata": {
        "id": "6Mke6uPeUXYX"
      },
      "execution_count": null,
      "outputs": []
    },
    {
      "cell_type": "code",
      "source": [
        "text = \"HI HELLO GOOD MORNING\""
      ],
      "metadata": {
        "id": "4h8ZwVvYUj_U"
      },
      "execution_count": null,
      "outputs": []
    },
    {
      "cell_type": "code",
      "source": [
        "speech = gTTS(text=text,lang=language, slow = False)"
      ],
      "metadata": {
        "id": "P0kzIIUfUvc1"
      },
      "execution_count": null,
      "outputs": []
    },
    {
      "cell_type": "code",
      "source": [
        "speech.save(\"Test.mp3\")"
      ],
      "metadata": {
        "id": "-_hPsHEVVAws"
      },
      "execution_count": null,
      "outputs": []
    },
    {
      "cell_type": "code",
      "source": [],
      "metadata": {
        "id": "y_2X79RYVHc_"
      },
      "execution_count": null,
      "outputs": []
    }
  ]
}